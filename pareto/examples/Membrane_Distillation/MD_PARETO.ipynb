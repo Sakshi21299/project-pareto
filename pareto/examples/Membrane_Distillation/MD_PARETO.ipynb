{
 "cells": [
  {
   "cell_type": "markdown",
   "metadata": {},
   "source": [
    "Membrane Distillation (MD) is an emerging technology capable of treating highly saline wastewater, particularly relevant for handling hypersaline produced water. MD leverages a temperature gradient across a hydrophobic membrane to induce vapor pressure differences, facilitating the separation of clean water from a saline solution. The process operates at lower temperatures compared to traditional thermal desalination methods, making it well-suited for utilization of waste heat sources.\n",
    "\n",
    "This flowsheet simulates a single Direct Contact Membrane Distillation (DCMD) model operating in continuous recirculation mode to achieve high recoveries. This mode helps overcome the low single-pass recovery limitation of MD technologies, which is typically a maximum of 10%.\n",
    "\n",
    "The simulation includes an integrated external heat exchanger for heat recovery, optimizing energy use. The flowsheet encompasses:\n",
    "\n",
    "An MD module for the distillation process.\n",
    "A heater to preheat the recycle stream and makeup feed.\n",
    "A chiller to cool the feed to the cold side of the membrane, ensuring efficient separation driving force and condensation.\n",
    "An external heat exchanger to recover heat from the heated pure water in the cold loop and preheat the feed to the hot channel before it enters the heater.\n",
    "Pumps, separators, and mixers are included to support the process flow and integration.\n",
    "\n",
    "To simulate the performance of treating produced water using Membrane Distillation (MD), this model approximates the properties of produced water with those of an NaCl solution. This approximation is for simplification and to leverage existing property packages, providing a basis for understanding the behavior and treatment efficacy of highly saline wastewater in MD systems. "
   ]
  },
  {
   "cell_type": "markdown",
   "metadata": {},
   "source": [
    "To effectively run this Jupyter Notebook and utilize the associated flowsheet for the Membrane Distillation process simulation and optimization, it's necessary to have the WaterTAP package installed on your system. Detailed installation instructions can be found inthe [WaterTAP documentation](https://watertap.readthedocs.io/en/latest/getting_started.html).\n",
    "Note: This model depends on some features in WaterTAP that are not part of the latest release. So, at present, the only way to successfully run this notebook is to install the development version of WaterTAP rather than pip install watertap"
   ]
  },
  {
   "cell_type": "markdown",
   "metadata": {},
   "source": [
    "To begin simulating our Membrane Distillation (MD) flowsheet, we first need to import the necessary libraries that enable the creation, manipulation, and analysis of our model."
   ]
  },
  {
   "cell_type": "code",
   "execution_count": 1,
   "metadata": {},
   "outputs": [],
   "source": [
    "import MD_single_stage_continuous_recirculation as md_flow\n",
    "import ipywidgets as widgets\n",
    "from IPython.display import display"
   ]
  },
  {
   "cell_type": "markdown",
   "metadata": {},
   "source": [
    "Please execute the cell below to adjust the feed characteristics for the membrane distillation plant simulation. The interactive sliders allow you to tailor the salinity (kg/kg) and flowrate (kg/s) according to your specific requirements. "
   ]
  },
  {
   "cell_type": "code",
   "execution_count": 2,
   "metadata": {},
   "outputs": [
    {
     "data": {
      "application/vnd.jupyter.widget-view+json": {
       "model_id": "eb4cc115b0c345938b956465d1fcc5c6",
       "version_major": 2,
       "version_minor": 0
      },
      "text/plain": [
       "FloatSlider(value=0.035, description='Salinity:', max=0.15, min=0.01, step=0.005)"
      ]
     },
     "metadata": {},
     "output_type": "display_data"
    },
    {
     "data": {
      "application/vnd.jupyter.widget-view+json": {
       "model_id": "eb8dae3f39c7448a81c5e81e1e716cb3",
       "version_major": 2,
       "version_minor": 0
      },
      "text/plain": [
       "FloatSlider(value=1.0, description='Flowrate:', max=10.0, min=0.1)"
      ]
     },
     "metadata": {},
     "output_type": "display_data"
    }
   ],
   "source": [
    "salinity_widget = widgets.FloatSlider(\n",
    "    value=0.035, min=0.01, max=0.15, step=0.005, description=\"Salinity:\"\n",
    ")\n",
    "flowrate_widget = widgets.FloatSlider(\n",
    "    value=1.0, min=0.1, max=10.0, step=0.1, description=\"Flowrate:\"\n",
    ")\n",
    "display(salinity_widget, flowrate_widget)"
   ]
  },
  {
   "cell_type": "markdown",
   "metadata": {},
   "source": [
    "Proceed to the next cell to configure the desired recovery rate for the membrane distillation process. The slider allows you to set the recovery target within practical limits, ensuring the concentration in the solution does not exceed the solubility limit of the solute. This adjustment is dynamically calculated based on your input for feed salinity from the previous step, safeguarding against supersaturation conditions.\n"
   ]
  },
  {
   "cell_type": "code",
   "execution_count": 3,
   "metadata": {},
   "outputs": [
    {
     "data": {
      "application/vnd.jupyter.widget-view+json": {
       "model_id": "acf81b7635ed403cacf3417f5d3ea623",
       "version_major": 2,
       "version_minor": 0
      },
      "text/plain": [
       "FloatSlider(value=0.5, description='water recovery:', max=0.7, min=0.1)"
      ]
     },
     "metadata": {},
     "output_type": "display_data"
    }
   ],
   "source": [
    "recovery_widget = widgets.FloatSlider(\n",
    "    value=0.5,\n",
    "    min=0.1,\n",
    "    max=(1 - salinity_widget.value / 0.3),\n",
    "    step=0.1,\n",
    "    description=\"water recovery:\",\n",
    ")\n",
    "display(recovery_widget)"
   ]
  },
  {
   "cell_type": "markdown",
   "metadata": {},
   "source": [
    "Run the following cell to construct the simulation flowsheet utilizing your previously defined inputs for salinity, flowrate, and recovery. "
   ]
  },
  {
   "cell_type": "code",
   "execution_count": 4,
   "metadata": {},
   "outputs": [],
   "source": [
    "# Function to run the flowsheet with user inputs\n",
    "def run_simulation(salinity, flowrate):\n",
    "    model = md_flow.build()\n",
    "    md_flow.set_operating_conditions(\n",
    "        model,\n",
    "        feed_flow_mass=flowrate,\n",
    "        feed_mass_frac_TDS=salinity,\n",
    "        overall_recovery=recovery_widget.value,\n",
    "    )\n",
    "    md_flow.initialize_system(model)\n",
    "    md_flow.optimize_set_up(model)\n",
    "    md_flow.solve(model)\n",
    "    return model"
   ]
  },
  {
   "cell_type": "markdown",
   "metadata": {},
   "source": [
    "Execute the upcoming cell to choose the specific results you wish to review following the simulation and optimization process."
   ]
  },
  {
   "cell_type": "code",
   "execution_count": 5,
   "metadata": {},
   "outputs": [
    {
     "data": {
      "application/vnd.jupyter.widget-view+json": {
       "model_id": "4778fa7558a54fbcb17ce9d6c23296f8",
       "version_major": 2,
       "version_minor": 0
      },
      "text/plain": [
       "Checkbox(value=False, description='Display System Results')"
      ]
     },
     "metadata": {},
     "output_type": "display_data"
    },
    {
     "data": {
      "application/vnd.jupyter.widget-view+json": {
       "model_id": "404a94b3cf874a12a3fdd7d38fb4d2bc",
       "version_major": 2,
       "version_minor": 0
      },
      "text/plain": [
       "Checkbox(value=False, description='Display detailed cost Results')"
      ]
     },
     "metadata": {},
     "output_type": "display_data"
    },
    {
     "data": {
      "application/vnd.jupyter.widget-view+json": {
       "model_id": "ef8d9d033aaf417ea338f41426c97778",
       "version_major": 2,
       "version_minor": 0
      },
      "text/plain": [
       "Checkbox(value=False, description='Display Design Results')"
      ]
     },
     "metadata": {},
     "output_type": "display_data"
    },
    {
     "data": {
      "application/vnd.jupyter.widget-view+json": {
       "model_id": "b3365fc8df1f44c48bf6aff85d1d7e4d",
       "version_major": 2,
       "version_minor": 0
      },
      "text/plain": [
       "Checkbox(value=False, description='Display State Results')"
      ]
     },
     "metadata": {},
     "output_type": "display_data"
    }
   ],
   "source": [
    "# Define checkboxes for selecting the results to display\n",
    "system_checkbox = widgets.Checkbox(value=False, description=\"Display System Results\")\n",
    "design_checkbox = widgets.Checkbox(value=False, description=\"Display Design Results\")\n",
    "detailed_cost_checkbox = widgets.Checkbox(\n",
    "    value=False, description=\"Display detailed cost Results\"\n",
    ")\n",
    "state_checkbox = widgets.Checkbox(value=False, description=\"Display State Results\")\n",
    "\n",
    "display(system_checkbox, detailed_cost_checkbox, design_checkbox, state_checkbox)"
   ]
  },
  {
   "cell_type": "markdown",
   "metadata": {},
   "source": [
    "Execute the following cell and then click on the \"Run Simulation\" button to initiate the simulation and optimization of the MD flowsheet. This action triggers the comprehensive analysis of the flowsheet based on your specified inputs"
   ]
  },
  {
   "cell_type": "code",
   "execution_count": 6,
   "metadata": {},
   "outputs": [
    {
     "data": {
      "application/vnd.jupyter.widget-view+json": {
       "model_id": "93a1215dff6e448187b7448b7bd0e236",
       "version_major": 2,
       "version_minor": 0
      },
      "text/plain": [
       "Button(description='Run Simulation', style=ButtonStyle())"
      ]
     },
     "metadata": {},
     "output_type": "display_data"
    },
    {
     "data": {
      "application/vnd.jupyter.widget-view+json": {
       "model_id": "8ae872a5619d47bebe45c08dea6d9779",
       "version_major": 2,
       "version_minor": 0
      },
      "text/plain": [
       "Output()"
      ]
     },
     "metadata": {},
     "output_type": "display_data"
    }
   ],
   "source": [
    "# Configuration for the \"Run Simulation\" button and its output handling\n",
    "run_button = widgets.Button(description=\"Run Simulation\")\n",
    "output = widgets.Output()\n",
    "\n",
    "\n",
    "def on_run_button_clicked(b):\n",
    "    with output:\n",
    "        output.clear_output()\n",
    "        model = run_simulation(salinity_widget.value, flowrate_widget.value)\n",
    "        # Display selected results based on checkboxes\n",
    "        if system_checkbox.value:\n",
    "            md_flow.display_system(model)\n",
    "        if design_checkbox.value:\n",
    "            md_flow.display_design(model)\n",
    "        if state_checkbox.value:\n",
    "            md_flow.display_state(model)\n",
    "        if detailed_cost_checkbox.value:\n",
    "            md_flow.display_detailed_costs(model)\n",
    "\n",
    "\n",
    "run_button.on_click(on_run_button_clicked)\n",
    "display(run_button, output)"
   ]
  },
  {
   "cell_type": "code",
   "execution_count": null,
   "metadata": {},
   "outputs": [],
   "source": []
  }
 ],
 "metadata": {
  "kernelspec": {
   "display_name": "Python 3 (ipykernel)",
   "language": "python",
   "name": "python3"
  },
  "language_info": {
   "codemirror_mode": {
    "name": "ipython",
    "version": 3
   },
   "file_extension": ".py",
   "mimetype": "text/x-python",
   "name": "python",
   "nbconvert_exporter": "python",
   "pygments_lexer": "ipython3",
   "version": "3.8.18"
  }
 },
 "nbformat": 4,
 "nbformat_minor": 4
}
