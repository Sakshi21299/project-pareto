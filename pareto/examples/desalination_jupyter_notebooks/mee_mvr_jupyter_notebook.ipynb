{
 "cells": [
  {
   "cell_type": "markdown",
   "id": "e89e1b65",
   "metadata": {},
   "source": [
    "# MEE-MVR desalination\n",
    "\n",
    "A multistage evaporator with mechanical vapor recompression has been built in Pyomo. This notebook demonstrates how to build the model, specify inlet conditions and obtain CAPEX and OPEX post optimization.\n",
    "MEE-MVR model is taken from Onishi's 2017 paper on multi-effect evaporators[1].\n",
    "\n",
    "<br>\n",
    "We will begin with the relevant imports:\n",
    "<br>\n",
    "1) Pyomo for developing the model \n",
    "<br>\n",
    "2) degrees_of_freedom package from IDAES core to analyse the degrees of freedom\n",
    "<br>\n",
    "3) mee_mvr model from PARETO"
   ]
  },
  {
   "cell_type": "code",
   "execution_count": 1,
   "id": "d2469dd8",
   "metadata": {},
   "outputs": [],
   "source": [
    "import pyomo.environ as pyo\n",
    "from idaes.core.util.model_statistics import degrees_of_freedom\n",
    "from pareto.models_extra.desalination_models.mee_mvr import make_mee_mvr_model"
   ]
  },
  {
   "cell_type": "markdown",
   "id": "47965656",
   "metadata": {},
   "source": [
    "The inputs to the MEE-MVR process are:\n",
    "<br>\n",
    "1) N_evap - An integer indicating the number of evaporator stages (default = 1)\n",
    "<br>\n",
    "2) inputs_variables - A boolean indicating if the feed and salinity to the desalination unit are variables (default = False)\n",
    "<br>\n",
    "In this notebook, we will always assume our inputs are parameters (inputs_variables = False). "
   ]
  },
  {
   "cell_type": "code",
   "execution_count": 4,
   "id": "28012afe",
   "metadata": {},
   "outputs": [
    {
     "name": "stdout",
     "output_type": "stream",
     "text": [
      "Build succesful\n"
     ]
    }
   ],
   "source": [
    "N_evap = 1\n",
    "m = make_mee_mvr_model(N_evap = N_evap)\n",
    "print(\"Build succesful\")"
   ]
  },
  {
   "cell_type": "markdown",
   "id": "0c67e751",
   "metadata": {},
   "source": [
    "To specify the inlet feed flow and salinity, we set the flow_feed and salt_feed to the desired values. In this example we set feed flowrate to 10 kg/s and feed salinity to 100 g/kg."
   ]
  },
  {
   "cell_type": "code",
   "execution_count": 14,
   "id": "6e07c3eb",
   "metadata": {},
   "outputs": [],
   "source": [
    "m.flow_feed = 10\n",
    "m.salt_feed = 100"
   ]
  },
  {
   "cell_type": "markdown",
   "id": "7ebd2d08",
   "metadata": {},
   "source": [
    "The number of degrees of freedom can be checked using the deegrees_of_freedom function in IDAES"
   ]
  },
  {
   "cell_type": "code",
   "execution_count": 15,
   "id": "104219f7",
   "metadata": {},
   "outputs": [
    {
     "name": "stdout",
     "output_type": "stream",
     "text": [
      "DOF =  2\n"
     ]
    }
   ],
   "source": [
    "print(\"DOF = \", degrees_of_freedom(m))"
   ]
  },
  {
   "cell_type": "markdown",
   "id": "ec34afa1",
   "metadata": {},
   "source": [
    "The MEE-MVR model has 2 degrees of freedom. We will first fix these two degrees of freedom to run a simulation. The evaporator area is fixed to 300 sq. meter and compressor capacity is fixed to 2000 hp"
   ]
  },
  {
   "cell_type": "code",
   "execution_count": 17,
   "id": "68435fd0",
   "metadata": {},
   "outputs": [],
   "source": [
    "m.each_evaporator_area[0].fix(300)\n",
    "m.compressor_capacity.fix(2000)"
   ]
  },
  {
   "cell_type": "markdown",
   "id": "3f5a41c5",
   "metadata": {},
   "source": [
    "# Solving the simulation\n",
    "We will use the open source non-linear solver IPOPT available through Pyomo. The following block instantiates IPOPT and solves the MEE-MVR simulation"
   ]
  },
  {
   "cell_type": "code",
   "execution_count": 18,
   "id": "3a951902",
   "metadata": {
    "scrolled": true
   },
   "outputs": [
    {
     "name": "stdout",
     "output_type": "stream",
     "text": [
      "Ipopt 3.13.2: \n",
      "\n",
      "******************************************************************************\n",
      "This program contains Ipopt, a library for large-scale nonlinear optimization.\n",
      " Ipopt is released as open source code under the Eclipse Public License (EPL).\n",
      "         For more information visit http://projects.coin-or.org/Ipopt\n",
      "\n",
      "This version of Ipopt was compiled from source code available at\n",
      "    https://github.com/IDAES/Ipopt as part of the Institute for the Design of\n",
      "    Advanced Energy Systems Process Systems Engineering Framework (IDAES PSE\n",
      "    Framework) Copyright (c) 2018-2019. See https://github.com/IDAES/idaes-pse.\n",
      "\n",
      "This version of Ipopt was compiled using HSL, a collection of Fortran codes\n",
      "    for large-scale scientific computation.  All technical papers, sales and\n",
      "    publicity material resulting from use of the HSL codes within IPOPT must\n",
      "    contain the following acknowledgement:\n",
      "        HSL, a collection of Fortran codes for large-scale scientific\n",
      "        computation. See http://www.hsl.rl.ac.uk.\n",
      "******************************************************************************\n",
      "\n",
      "This is Ipopt version 3.13.2, running with linear solver ma27.\n",
      "\n",
      "Number of nonzeros in equality constraint Jacobian...:      131\n",
      "Number of nonzeros in inequality constraint Jacobian.:       14\n",
      "Number of nonzeros in Lagrangian Hessian.............:       66\n",
      "\n",
      "Total number of variables............................:       49\n",
      "                     variables with only lower bounds:       12\n",
      "                variables with lower and upper bounds:       29\n",
      "                     variables with only upper bounds:        0\n",
      "Total number of equality constraints.................:       48\n",
      "Total number of inequality constraints...............:        7\n",
      "        inequality constraints with only lower bounds:        0\n",
      "   inequality constraints with lower and upper bounds:        0\n",
      "        inequality constraints with only upper bounds:        7\n",
      "\n",
      "iter    objective    inf_pr   inf_du lg(mu)  ||d||  lg(rg) alpha_du alpha_pr  ls\n",
      "   0  1.4520312e+03 8.91e+02 1.00e+00  -1.0 0.00e+00    -  0.00e+00 0.00e+00   0\n",
      "   1  1.5107193e+03 8.37e+02 5.43e+02  -1.0 9.73e+02    -  1.75e-04 6.03e-02h  1\n",
      "   2  1.5161464e+03 8.32e+02 5.40e+02  -1.0 8.80e+02    -  7.62e-02 5.76e-03h  1\n",
      "   3  1.5162054e+03 8.32e+02 7.97e+04  -1.0 8.72e+02    -  3.59e-01 6.28e-05h  1\n",
      "   4r 1.5162054e+03 8.32e+02 9.99e+02   2.9 0.00e+00    -  0.00e+00 3.14e-07R  2\n",
      "   5r 1.7934034e+03 5.68e+02 9.86e+02   2.9 2.27e+04    -  5.63e-02 1.22e-02f  1\n",
      "   6  1.7935472e+03 5.67e+02 4.70e+05  -1.0 7.88e+02    -  1.29e-01 2.16e-04h  1\n",
      "   7r 1.7935472e+03 5.67e+02 1.00e+03   2.8 0.00e+00    -  0.00e+00 2.71e-07R  4\n",
      "   8r 2.3816436e+03 1.23e+02 9.80e+02   2.8 3.27e+04    -  4.61e-02 1.79e-02f  1\n",
      "   9  2.3816761e+03 1.23e+02 3.68e+02  -1.0 7.83e+02    -  1.53e-01 4.12e-04h  1\n",
      "iter    objective    inf_pr   inf_du lg(mu)  ||d||  lg(rg) alpha_du alpha_pr  ls\n",
      "  10r 2.3816761e+03 1.23e+02 9.99e+02   1.2 0.00e+00    -  0.00e+00 2.58e-07R  5\n",
      "  11r 2.3856944e+03 1.67e+01 9.96e+02   1.2 1.78e+04    -  9.53e-03 2.16e-03f  1\n",
      "  12  2.3856953e+03 1.67e+01 1.28e+07  -1.0 7.76e+02    -  2.48e-01 1.19e-05h  1\n",
      "  13r 2.3856953e+03 1.67e+01 1.00e+03   1.1 0.00e+00    -  0.00e+00 6.21e-08R  2\n",
      "  14r 2.3866813e+03 1.00e+01 9.91e+02   1.1 1.95e+03    -  5.18e-02 5.17e-03f  1\n",
      "  15  2.3866822e+03 1.00e+01 2.75e+04  -1.0 7.78e+02    -  3.17e-01 1.16e-05h  1\n",
      "  16r 2.3866822e+03 1.00e+01 9.99e+02   1.0 0.00e+00    -  0.00e+00 5.80e-08R  2\n",
      "  17r 2.3874601e+03 6.11e+00 9.88e+02   1.0 1.04e+03    -  3.53e-02 9.67e-03f  1\n",
      "  18  2.3874676e+03 6.11e+00 1.46e+06  -1.0 7.77e+02    -  5.37e-01 1.00e-04h  1\n",
      "  19r 2.3874676e+03 6.11e+00 1.00e+03   0.8 0.00e+00    -  0.00e+00 2.51e-07R  3\n",
      "iter    objective    inf_pr   inf_du lg(mu)  ||d||  lg(rg) alpha_du alpha_pr  ls\n",
      "  20r 2.3887624e+03 1.96e+00 9.80e+02   0.8 1.06e+03    -  4.46e-02 1.80e-02f  1\n",
      "  21  2.3901348e+03 1.92e+00 6.36e+01  -1.0 7.70e+02    -  2.86e-04 1.87e-02h  6\n",
      "  22  2.3928816e+03 1.85e+00 6.71e+01  -1.0 7.53e+02    -  5.55e-01 3.81e-02h  5\n",
      "  23  2.3956324e+03 1.77e+00 6.27e+01  -1.0 7.19e+02    -  5.61e-02 3.97e-02h  5\n",
      "  24  2.3983849e+03 1.70e+00 6.12e+01  -1.0 6.86e+02    -  6.17e-01 4.14e-02h  5\n",
      "  25  2.4011367e+03 1.63e+00 5.79e+01  -1.0 6.53e+02    -  1.54e-01 4.32e-02h  5\n",
      "  26  2.4038856e+03 1.55e+00 5.62e+01  -1.0 6.21e+02    -  7.89e-01 4.51e-02h  5\n",
      "  27  2.4066292e+03 1.48e+00 5.29e+01  -1.0 5.90e+02    -  2.47e-01 4.72e-02h  5\n",
      "  28  2.4093655e+03 1.40e+00 5.09e+01  -1.0 5.59e+02    -  8.61e-01 4.95e-02h  5\n",
      "  29  2.4120921e+03 1.33e+00 4.77e+01  -1.0 5.29e+02    -  3.68e-01 5.19e-02h  5\n",
      "iter    objective    inf_pr   inf_du lg(mu)  ||d||  lg(rg) alpha_du alpha_pr  ls\n",
      "  30  2.4148069e+03 1.26e+00 4.56e+01  -1.0 5.00e+02    -  9.64e-01 5.45e-02h  5\n",
      "  31  2.4580208e+03 3.70e+01 1.60e+02  -1.0 4.70e+02    -  4.99e-01 9.19e-01w  1\n",
      "  32  2.4614936e+03 7.29e+00 1.29e+02  -1.0 3.38e+01    -  4.50e-02 1.00e+00w  1\n",
      "  33  2.4615088e+03 5.21e-01 2.29e+01  -1.0 5.99e+00    -  8.48e-01 1.00e+00h  1\n",
      "  34  2.4615094e+03 2.33e-03 2.05e-01  -1.0 3.65e-01    -  1.00e+00 1.00e+00h  1\n",
      "  35  2.4615094e+03 4.80e-08 6.82e-06  -1.7 1.66e-03    -  1.00e+00 1.00e+00h  1\n",
      "  36  2.4615094e+03 4.55e-13 1.51e-09  -3.8 2.94e-07    -  1.00e+00 1.00e+00h  1\n",
      "  37  2.4615094e+03 4.55e-13 1.89e-11  -5.7 4.74e-07    -  1.00e+00 1.00e+00h  1\n",
      "  38  2.4615094e+03 4.55e-13 4.01e-13  -8.6 5.18e-08    -  1.00e+00 1.00e+00h  1\n",
      "\n",
      "Number of Iterations....: 38\n",
      "\n",
      "                                   (scaled)                 (unscaled)\n",
      "Objective...............:   2.4615094185697653e+03    2.4615094185697653e+03\n",
      "Dual infeasibility......:   4.0108309231625620e-13    4.0108309231625620e-13\n",
      "Constraint violation....:   4.5474735088646412e-13    4.5474735088646412e-13\n",
      "Complementarity.........:   2.5059053739250319e-09    2.5059053739250319e-09\n",
      "Overall NLP error.......:   2.5059053739250319e-09    2.5059053739250319e-09\n",
      "\n",
      "\n",
      "Number of objective function evaluations             = 130\n",
      "Number of objective gradient evaluations             = 39\n",
      "Number of equality constraint evaluations            = 130\n",
      "Number of inequality constraint evaluations          = 130\n",
      "Number of equality constraint Jacobian evaluations   = 45\n",
      "Number of inequality constraint Jacobian evaluations = 45\n",
      "Number of Lagrangian Hessian evaluations             = 38\n",
      "Total CPU secs in IPOPT (w/o function evaluations)   =      0.012\n",
      "Total CPU secs in NLP function evaluations           =      0.001\n",
      "\n",
      "EXIT: Optimal Solution Found.\n",
      "\b\b\b\b\b\b\b\b\b\b\b\b\b\b"
     ]
    },
    {
     "data": {
      "text/plain": [
       "{'Problem': [{'Lower bound': -inf, 'Upper bound': inf, 'Number of objectives': 1, 'Number of constraints': 55, 'Number of variables': 49, 'Sense': 'unknown'}], 'Solver': [{'Status': 'ok', 'Message': 'Ipopt 3.13.2\\\\x3a Optimal Solution Found', 'Termination condition': 'optimal', 'Id': 0, 'Error rc': 0, 'Time': 0.06006026268005371}], 'Solution': [OrderedDict([('number of solutions', 0), ('number of solutions displayed', 0)])]}"
      ]
     },
     "execution_count": 18,
     "metadata": {},
     "output_type": "execute_result"
    }
   ],
   "source": [
    "ipopt = pyo.SolverFactory('ipopt')\n",
    "ipopt.solve(m, tee= True)"
   ]
  },
  {
   "cell_type": "markdown",
   "id": "b5c73824",
   "metadata": {},
   "source": [
    "The objective value can be obtained from the solved model. "
   ]
  },
  {
   "cell_type": "code",
   "execution_count": 19,
   "id": "9395045c",
   "metadata": {},
   "outputs": [
    {
     "name": "stdout",
     "output_type": "stream",
     "text": [
      "Objective function 2461.5094185697653\n",
      "preheater area 1.5273756300662116\n"
     ]
    }
   ],
   "source": [
    "print(\"Objective function =\", pyo.value(m.obj))\n",
    "print(\"preheater area = \", pyo.value(m.preheater_area))"
   ]
  },
  {
   "cell_type": "markdown",
   "id": "6c9ebf90",
   "metadata": {},
   "source": [
    "Now we unfix the degrees of freedom to solve the optimization problem. We will minimize the total annualized cost and let the optimizer decide the optimal evaporator area, and compressor capacity"
   ]
  },
  {
   "cell_type": "code",
   "execution_count": 20,
   "id": "4c07172b",
   "metadata": {
    "scrolled": true
   },
   "outputs": [
    {
     "name": "stdout",
     "output_type": "stream",
     "text": [
      "Ipopt 3.13.2: \n",
      "\n",
      "******************************************************************************\n",
      "This program contains Ipopt, a library for large-scale nonlinear optimization.\n",
      " Ipopt is released as open source code under the Eclipse Public License (EPL).\n",
      "         For more information visit http://projects.coin-or.org/Ipopt\n",
      "\n",
      "This version of Ipopt was compiled from source code available at\n",
      "    https://github.com/IDAES/Ipopt as part of the Institute for the Design of\n",
      "    Advanced Energy Systems Process Systems Engineering Framework (IDAES PSE\n",
      "    Framework) Copyright (c) 2018-2019. See https://github.com/IDAES/idaes-pse.\n",
      "\n",
      "This version of Ipopt was compiled using HSL, a collection of Fortran codes\n",
      "    for large-scale scientific computation.  All technical papers, sales and\n",
      "    publicity material resulting from use of the HSL codes within IPOPT must\n",
      "    contain the following acknowledgement:\n",
      "        HSL, a collection of Fortran codes for large-scale scientific\n",
      "        computation. See http://www.hsl.rl.ac.uk.\n",
      "******************************************************************************\n",
      "\n",
      "This is Ipopt version 3.13.2, running with linear solver ma27.\n",
      "\n",
      "Number of nonzeros in equality constraint Jacobian...:      136\n",
      "Number of nonzeros in inequality constraint Jacobian.:       14\n",
      "Number of nonzeros in Lagrangian Hessian.............:       70\n",
      "\n",
      "Total number of variables............................:       51\n",
      "                     variables with only lower bounds:       12\n",
      "                variables with lower and upper bounds:       31\n",
      "                     variables with only upper bounds:        0\n",
      "Total number of equality constraints.................:       48\n",
      "Total number of inequality constraints...............:        7\n",
      "        inequality constraints with only lower bounds:        0\n",
      "   inequality constraints with lower and upper bounds:        0\n",
      "        inequality constraints with only upper bounds:        7\n",
      "\n",
      "iter    objective    inf_pr   inf_du lg(mu)  ||d||  lg(rg) alpha_du alpha_pr  ls\n",
      "   0  2.4615094e+03 4.55e-13 1.00e+00  -1.0 0.00e+00    -  0.00e+00 0.00e+00   0\n",
      "   1  1.9662308e+03 1.32e+01 1.96e+02  -1.0 4.60e+02    -  1.18e-01 1.00e+00f  1\n",
      "   2  1.6234352e+03 1.24e+01 1.96e+01  -1.0 3.14e+02    -  5.20e-01 1.00e+00f  1\n",
      "   3  1.4368664e+03 1.39e+01 1.55e+01  -1.0 3.69e+02    -  5.09e-01 4.87e-01f  1\n",
      "   4  1.4365253e+03 1.26e+01 1.41e+01  -1.0 2.81e+01    -  7.99e-01 9.20e-02h  1\n",
      "   5  1.4510137e+03 3.15e+00 1.84e+00  -1.0 1.89e+01    -  9.80e-01 9.75e-01h  1\n",
      "   6  1.4522239e+03 5.65e-03 1.16e-02  -1.0 3.56e+00    -  9.94e-01 1.00e+00h  1\n",
      "   7  1.4520713e+03 1.03e-04 9.35e-05  -1.7 1.47e-01    -  1.00e+00 1.00e+00h  1\n",
      "   8  1.4520315e+03 6.82e-06 5.80e-06  -3.8 3.84e-02    -  1.00e+00 1.00e+00f  1\n",
      "   9  1.4520312e+03 4.59e-10 3.64e-10  -5.7 4.77e-03    -  1.00e+00 1.00e+00h  1\n",
      "iter    objective    inf_pr   inf_du lg(mu)  ||d||  lg(rg) alpha_du alpha_pr  ls\n",
      "  10  1.4520312e+03 4.55e-13 3.08e-12  -8.6 5.21e-04    -  1.00e+00 1.00e+00h  1\n",
      "\n",
      "Number of Iterations....: 10\n",
      "\n",
      "                                   (scaled)                 (unscaled)\n",
      "Objective...............:   1.4520311841085741e+03    1.4520311841085741e+03\n",
      "Dual infeasibility......:   3.0800462646773149e-12    3.0800462646773149e-12\n",
      "Constraint violation....:   4.5474735088646412e-13    4.5474735088646412e-13\n",
      "Complementarity.........:   2.5214622840904449e-09    2.5214622840904449e-09\n",
      "Overall NLP error.......:   2.5214622840904449e-09    2.5214622840904449e-09\n",
      "\n",
      "\n",
      "Number of objective function evaluations             = 11\n",
      "Number of objective gradient evaluations             = 11\n",
      "Number of equality constraint evaluations            = 11\n",
      "Number of inequality constraint evaluations          = 11\n",
      "Number of equality constraint Jacobian evaluations   = 11\n",
      "Number of inequality constraint Jacobian evaluations = 11\n",
      "Number of Lagrangian Hessian evaluations             = 10\n",
      "Total CPU secs in IPOPT (w/o function evaluations)   =      0.002\n",
      "Total CPU secs in NLP function evaluations           =      0.000\n",
      "\n",
      "EXIT: Optimal Solution Found.\n",
      "\b\b\b\b\b\b\b\b\b\b\b\b\b\b"
     ]
    },
    {
     "data": {
      "text/plain": [
       "{'Problem': [{'Lower bound': -inf, 'Upper bound': inf, 'Number of objectives': 1, 'Number of constraints': 55, 'Number of variables': 51, 'Sense': 'unknown'}], 'Solver': [{'Status': 'ok', 'Message': 'Ipopt 3.13.2\\\\x3a Optimal Solution Found', 'Termination condition': 'optimal', 'Id': 0, 'Error rc': 0, 'Time': 0.04599905014038086}], 'Solution': [OrderedDict([('number of solutions', 0), ('number of solutions displayed', 0)])]}"
      ]
     },
     "execution_count": 20,
     "metadata": {},
     "output_type": "execute_result"
    }
   ],
   "source": [
    "m.each_evaporator_area[0].unfix()\n",
    "m.compressor_capacity.unfix()\n",
    "ipopt.solve(m, tee= True)"
   ]
  },
  {
   "cell_type": "code",
   "execution_count": 22,
   "id": "948235be",
   "metadata": {
    "scrolled": true
   },
   "outputs": [
    {
     "name": "stdout",
     "output_type": "stream",
     "text": [
      "Objective function 1452.031184108574\n",
      "preheater area 51.70148043955233\n",
      "Evaporator area 372.0\n",
      "Compressor capacity 1109.1581231287237\n"
     ]
    }
   ],
   "source": [
    "print(\"Objective function = \", pyo.value(m.obj))\n",
    "print(\"preheater area = \", pyo.value(m.preheater_area))\n",
    "print(\"Evaporator area = \", pyo.value(m.each_evaporator_area[0]))\n",
    "print(\"Compressor capacity = \", pyo.value(m.compressor_capacity))"
   ]
  }
 ],
 "metadata": {
  "kernelspec": {
   "display_name": "Python 3 (ipykernel)",
   "language": "python",
   "name": "python3"
  },
  "language_info": {
   "codemirror_mode": {
    "name": "ipython",
    "version": 3
   },
   "file_extension": ".py",
   "mimetype": "text/x-python",
   "name": "python",
   "nbconvert_exporter": "python",
   "pygments_lexer": "ipython3",
   "version": "3.8.18"
  }
 },
 "nbformat": 4,
 "nbformat_minor": 5
}
