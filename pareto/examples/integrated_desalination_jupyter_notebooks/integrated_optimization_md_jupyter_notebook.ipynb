{
 "cells": [
  {
   "cell_type": "markdown",
   "id": "d5e846f8",
   "metadata": {},
   "source": [
    "## Integrating rigorous desalination models into network optimization\n",
    "It is often desired to design a desalination plant at a certain desalination site in the network. However, it is not clear what the optimal design and operation of the plant should be. In this notebook we show how to co-optimize the network operation and desalination design by using the integrated optimization model available in PARETO. \n",
    "\n",
    "First we import the necessary utilities to read the network data, the function to build the integrated model with MD (Membrane Distillation) as the desalination model choice (`integrated_model_build`) and the Pyomo package."
   ]
  },
  {
   "cell_type": "code",
   "execution_count": null,
   "id": "7fc4dc81",
   "metadata": {},
   "outputs": [],
   "source": [
    "from importlib import resources\n",
    "from pareto.utilities.get_data import get_data\n",
    "from pareto.models_extra.CM_module.set_param_list import (\n",
    "    set_list,\n",
    "    parameter_list)\n",
    "from pareto.models_extra.CM_module.cm_utils.data_parser import data_parser\n",
    "from pareto.models_extra.Integrate_desal.integrated_models.integrated_optimization_md import integrated_model_build\n",
    "import pyomo.environ as pyo"
   ]
  },
  {
   "cell_type": "markdown",
   "id": "37fc8b36",
   "metadata": {},
   "source": [
    "Importing network data"
   ]
  },
  {
   "cell_type": "code",
   "execution_count": null,
   "id": "4f0c3155",
   "metadata": {},
   "outputs": [],
   "source": [
    "with resources.path(\n",
    "            \"pareto.case_studies\",\n",
    "            \"integrated_desalination_demo.xlsx\",\n",
    "        ) as fpath:\n",
    "            [df_sets, df_parameters] = get_data(fpath, set_list, parameter_list)\n",
    "\n",
    "            network_data = data_parser(df_sets, df_parameters)"
   ]
  },
  {
   "cell_type": "markdown",
   "id": "5ff3c305",
   "metadata": {},
   "source": [
    "Along with network data the integrated model inputs a dictionary with the name of the site at which the desalination unit needs to be built and the technology - MD in this case "
   ]
  },
  {
   "cell_type": "code",
   "execution_count": null,
   "id": "6f287dc4",
   "metadata": {},
   "outputs": [],
   "source": [
    "desalination_dict = {\"R01_IN\": \"MD\"}"
   ]
  },
  {
   "cell_type": "markdown",
   "id": "f82bcb33",
   "metadata": {},
   "source": [
    "Now we will build the integrated model using the network data and the desalination dictionary. The model initializes the network and desalination units. It takes several seconds to initialize in this case."
   ]
  },
  {
   "cell_type": "code",
   "execution_count": null,
   "id": "c6beea3c",
   "metadata": {},
   "outputs": [],
   "source": [
    "m = integrated_model_build(network_data, treatment_dict=desalination_dict)"
   ]
  },
  {
   "cell_type": "markdown",
   "id": "6dc18609",
   "metadata": {},
   "source": [
    "# Solving the integrated model\n",
    "Now we import IPOPT - a non-linear programming solver from the `SolverFactory` available with Pyomo to solve the integrated model."
   ]
  },
  {
   "cell_type": "code",
   "execution_count": null,
   "id": "21a70651",
   "metadata": {
    "scrolled": true
   },
   "outputs": [],
   "source": [
    "ipopt = pyo.SolverFactory(\"ipopt\")\n",
    "ipopt.options[\"mu_init\"] = 1e-6\n",
    "ipopt.options[\"bound_push\"] = 1e-6\n",
    "ipopt.solve(m, tee = True)"
   ]
  },
  {
   "cell_type": "markdown",
   "id": "871ffa76",
   "metadata": {},
   "source": [
    "# Results\n",
    "Now that the model is solved, we can obtain the results of our optimization problem. In this case we show how to obtain the various optimal network costs and optimal desalination CAPEX and OPEX"
   ]
  },
  {
   "cell_type": "code",
   "execution_count": null,
   "id": "f0a60184",
   "metadata": {
    "scrolled": true
   },
   "outputs": [],
   "source": [
    "print(\"=================================================================\")\n",
    "print(\"#########            Costing Variables (USD)        #############\")\n",
    "print(\"=================================================================\")\n",
    "print(\"Piping cost\")\n",
    "print(pyo.value(m.m_network.arc_cost))   \n",
    "print(\"=================================================================\")\n",
    "print(\"Disposal cost\")\n",
    "print(pyo.value(m.m_network.disp_cost))\n",
    "print(\"=================================================================\")\n",
    "print(\"Fresh water cost\")\n",
    "print(pyo.value(m.m_network.fresh_cost))\n",
    "print(\"=================================================================\")\n",
    "print(\"Storage Cost\")\n",
    "print(pyo.value(m.m_network.stor_cost))\n",
    "print(\"=================================================================\")\n",
    "print(\"Storage reward\")\n",
    "print(pyo.value(m.m_network.stor_rev))\n",
    "print(\"=================================================================\")\n",
    "print(\"Treatment reward\")\n",
    "print(pyo.value(m.m_network.treat_rev))\n",
    "print(\"=================================================================\")\n",
    "print(\"Treatment cost - OPEX\")\n",
    "print(pyo.value(sum(sum(m.OPEX[s, t]/365*m.m_network.p_dt for t in m.m_network.s_T) for s in m.m_network.desalination_nodes)))\n",
    "print(\"Treatment cost - CAPEX\")\n",
    "print(pyo.value(sum(m.CAPEX[s] for s in m.m_network.desalination_nodes)/365*m.m_network.p_dt*len(m.m_network.s_T)))\n",
    "print(\"=================================================================\")"
   ]
  }
 ],
 "metadata": {
  "kernelspec": {
   "display_name": "Python 3 (ipykernel)",
   "language": "python",
   "name": "python3"
  },
  "language_info": {
   "codemirror_mode": {
    "name": "ipython",
    "version": 3
   },
   "file_extension": ".py",
   "mimetype": "text/x-python",
   "name": "python",
   "nbconvert_exporter": "python",
   "pygments_lexer": "ipython3",
   "version": "3.8.18"
  }
 },
 "nbformat": 4,
 "nbformat_minor": 5
}
